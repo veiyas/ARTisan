{
  "nbformat": 4,
  "nbformat_minor": 2,
  "metadata": {
    "colab": {
      "name": "ARTisan.ipynb",
      "provenance": [],
      "collapsed_sections": []
    },
    "kernelspec": {
      "name": "python3",
      "display_name": "Python 3.8.11 64-bit ('tensorflow-gpu': conda)"
    },
    "language_info": {
      "name": "python",
      "version": "3.8.11",
      "mimetype": "text/x-python",
      "codemirror_mode": {
        "name": "ipython",
        "version": 3
      },
      "pygments_lexer": "ipython3",
      "nbconvert_exporter": "python",
      "file_extension": ".py"
    },
    "accelerator": "GPU",
    "interpreter": {
      "hash": "afcfd65904a5a676a18b6dc3813424f969cfa3520b7d698402451546ceacbdb7"
    }
  },
  "cells": [
    {
      "cell_type": "markdown",
      "source": [
        "# ARTisan\n",
        "\n",
        "Useful resources\n",
        "- [A Neural Algorithm of Artistic Style (2015)](https://arxiv.org/pdf/1508.06576.pdf)\n",
        "- [Neural Style Transfer with tf.keras](https://aihub.cloud.google.com/u/0/p/products%2F7f7495dd-6f66-4f8a-8c30-15f211ad6957)\n",
        "- [Salvador AI (Old course project)](https://dellacqua.se/education/courses/tnm095/archive/2017/p10.pdf)\n",
        "- [Style transfer keras example](https://keras.io/examples/generative/neural_style_transfer/)\n",
        "- [Demystifying Neural Style Transfer](https://arxiv.org/pdf/1701.01036.pdf)"
      ],
      "metadata": {
        "id": "MFJ5xY3YoCoO"
      }
    },
    {
      "cell_type": "markdown",
      "source": [
        "## Test if GPU is available\n"
      ],
      "metadata": {
        "id": "dRWUA1B_rdOb"
      }
    },
    {
      "cell_type": "code",
      "execution_count": null,
      "source": [
        "import tensorflow as tf\r\n",
        "print(tf.test.gpu_device_name())"
      ],
      "outputs": [],
      "metadata": {
        "colab": {
          "base_uri": "https://localhost:8080/"
        },
        "id": "Y74qrPL5riNM",
        "outputId": "ccc1a6d5-7fd2-461a-cf6d-96212329c149"
      }
    },
    {
      "cell_type": "markdown",
      "source": [
        "## Setup and getting the images"
      ],
      "metadata": {
        "id": "S4c3rZQ0n5Fr"
      }
    },
    {
      "cell_type": "code",
      "execution_count": null,
      "source": [
        "import tensorflow as tf\r\n",
        "import numpy as np\r\n",
        "from tensorflow.keras.applications import vgg19\r\n",
        "from tensorflow import keras\r\n",
        "from IPython.display import Image, display\r\n",
        "\r\n",
        "print('Tensorflow version:', tf.__version__)\r\n",
        "\r\n",
        "content_img_path = keras.utils.get_file(\r\n",
        "    \"trams.jpg\", \"https://www.svtstatic.se/image/wide/992/15663340/1575374592?format=auto\")\r\n",
        "\r\n",
        "# content_img_path = keras.utils.get_file(\r\n",
        "#     \"rabbel.jpg\", \"https://static.wikia.nocookie.net/vintergatan/images/f/fd/Rabbel.jpg/revision/latest/scale-to-width-down/1000?cb=20201127071427&path-prefix=sv\")\r\n",
        "    \r\n",
        "style_img_path = keras.utils.get_file(\r\n",
        "    \"starry_night.jpg\", \"https://i.imgur.com/9ooB60I.jpg\")\r\n",
        "\r\n",
        "display(Image(content_img_path))\r\n",
        "#display(Image(style_img_path))\r\n",
        "\r\n",
        "content_width, content_height = keras.preprocessing.image.load_img(content_img_path).size\r\n",
        "n_rows = 400\r\n",
        "n_cols = int(content_width * n_rows / content_height)"
      ],
      "outputs": [],
      "metadata": {
        "colab": {
          "base_uri": "https://localhost:8080/",
          "height": 1000
        },
        "id": "TA02wKaZmeji",
        "outputId": "6195ea4e-316d-45e4-fc8d-6bc772744006"
      }
    },
    {
      "cell_type": "markdown",
      "source": [
        "## Utilities for preprocessing/deprocessing\n",
        "The VGG19 network expects the data to be in a certain format. More specifically, it expects\n",
        "- the input to be in BGR rather than RGB\n",
        "- the input to be zero-centered with respect to the mean of the ImageNet dataset"
      ],
      "metadata": {
        "id": "o0dkpsl8ek7R"
      }
    },
    {
      "cell_type": "code",
      "execution_count": null,
      "source": [
        "def preprocess_img(img_path):\r\n",
        "  img = keras.preprocessing.image.load_img(\r\n",
        "      img_path, target_size=(n_rows, n_cols))\r\n",
        "  img = keras.preprocessing.image.img_to_array(img)\r\n",
        "  img = np.expand_dims(img, axis=0)\r\n",
        "  img = vgg19.preprocess_input(img)\r\n",
        "  return tf.convert_to_tensor(img)\r\n",
        "\r\n",
        "def deprocess_img(x):\r\n",
        "  x = x.reshape((n_rows, n_cols, 3))\r\n",
        "  x[:, :, 0] += 103.939\r\n",
        "  x[:, :, 1] += 116.779\r\n",
        "  x[:, :, 2] += 123.68\r\n",
        "  x = x[:, :, ::-1] # BGR -> RGB\r\n",
        "  x = np.clip(x, 0, 255).astype(\"uint8\")\r\n",
        "  return x"
      ],
      "outputs": [],
      "metadata": {
        "id": "dXJbJHGae49O"
      }
    },
    {
      "cell_type": "markdown",
      "source": [
        "## Utilities for loss calculations\n"
      ],
      "metadata": {
        "id": "j48E9HKDlMUO"
      }
    },
    {
      "cell_type": "code",
      "execution_count": null,
      "source": [
        "def content_loss(content, combination):\r\n",
        "  return tf.reduce_sum(tf.square(combination - content))\r\n",
        "\r\n",
        "# TODO"
      ],
      "outputs": [],
      "metadata": {
        "id": "XzqmuAfTlTek"
      }
    },
    {
      "cell_type": "markdown",
      "source": [
        "## Prepare model etc."
      ],
      "metadata": {
        "id": "GZoI0CnsI3AL"
      }
    },
    {
      "cell_type": "code",
      "execution_count": null,
      "source": [
        "model = vgg19.VGG19(weights=\"imagenet\", include_top=False) # Using pretrained weights from imagenet\r\n",
        "outputs = dict([(layer.name, layer.output) for layer in model.layers])\r\n",
        "feature_extractor = keras.Model(inputs=model.inputs, outputs=outputs)"
      ],
      "outputs": [],
      "metadata": {
        "id": "CfX1fWtuJNI8"
      }
    },
    {
      "cell_type": "code",
      "execution_count": null,
      "source": [
        "#content_weight = 2.5e-8\r\n",
        "content_weight = 2.5e-5\r\n",
        "# content_layer_name = \"block5_conv2\"\r\n",
        "content_layer_name = \"block5_conv2\"\r\n",
        "\r\n",
        "\r\n",
        "def compute_loss(combination_img, content_img, style_img):\r\n",
        "  # Concatenate tensors along dimension 0\r\n",
        "  input_tensor = tf.concat([content_img, style_img, combination_img], axis=0)\r\n",
        "  #\r\n",
        "  features = feature_extractor(input_tensor)\r\n",
        "\r\n",
        "  loss = tf.zeros(shape=()) # WHY shape=()\r\n",
        "\r\n",
        "  # TODO Style loss, total variation loss also I think\r\n",
        "\r\n",
        "  # Content loss\r\n",
        "  layer_features = features[content_layer_name]\r\n",
        "  content_features = layer_features[0, :, :, :]\r\n",
        "  combination_features = layer_features[2, :, :, :]\r\n",
        "  loss = loss + content_weight * content_loss(content_features, combination_features)\r\n",
        "\r\n",
        "  return loss"
      ],
      "outputs": [],
      "metadata": {
        "id": "qDbIRuXjimFm"
      }
    },
    {
      "cell_type": "markdown",
      "source": [
        "## Compute gradient and loss util\n",
        "Created as a tensorflow function to improve performance, as described [here](https://www.tensorflow.org/guide/function)"
      ],
      "metadata": {
        "id": "UX3xOi2lpCIp"
      }
    },
    {
      "cell_type": "code",
      "execution_count": null,
      "source": [
        "@tf.function\r\n",
        "def compute_loss_and_gradients(combination_img, content_img, style_img):\r\n",
        "  with tf.GradientTape() as tape:\r\n",
        "    loss = compute_loss(combination_img, content_img, style_img)\r\n",
        "  gradients = tape.gradient(loss, combination_img)\r\n",
        "  return loss, gradients"
      ],
      "outputs": [],
      "metadata": {
        "id": "9cfNvKpWp05X"
      }
    },
    {
      "cell_type": "markdown",
      "source": [
        "## The optimization loop"
      ],
      "metadata": {
        "id": "zaP_P4gMq1xg"
      }
    },
    {
      "cell_type": "code",
      "execution_count": null,
      "source": [
        "#num_iterations = 4000\r\n",
        "#save_interval = 100\r\n",
        "num_iterations = 10000\r\n",
        "save_interval = 100\r\n",
        "\r\n",
        "learning_rate_schedule = keras.optimizers.schedules.ExponentialDecay(\r\n",
        "    initial_learning_rate = 100.0,\r\n",
        "    decay_steps = 100,\r\n",
        "    decay_rate = 1.00 # 0.96\r\n",
        ")\r\n",
        "optimizer = keras.optimizers.SGD(learning_rate_schedule)\r\n",
        "\r\n",
        "content_img = preprocess_img(content_img_path)\r\n",
        "style_img = preprocess_img(style_img_path)\r\n",
        "#combination_img = tf.Variable(preprocess_img(content_img_path))\r\n",
        "combination_img = tf.Variable(tf.random.uniform(\r\n",
        "    content_img.shape, minval = -128, maxval = 128 # No idea what im doing\r\n",
        "))\r\n",
        "keras.preprocessing.image.save_img(\"start.png\", deprocess_img(combination_img.numpy()))\r\n",
        "display(Image(\"start.png\"))\r\n",
        "\r\n",
        "\r\n",
        "for i in range(1, num_iterations + 1):\r\n",
        "  loss, gradients = compute_loss_and_gradients(combination_img, content_img, style_img)\r\n",
        "\r\n",
        "  optimizer.apply_gradients([(gradients, combination_img)])\r\n",
        "\r\n",
        "  if i % save_interval == 0 or i == num_iterations:\r\n",
        "    print(f\"Iteration {i}, loss = {loss}\")\r\n",
        "    img = deprocess_img(combination_img.numpy())\r\n",
        "    file_name = f\"result-at-{i}-iterations.png\"\r\n",
        "    keras.preprocessing.image.save_img(file_name, img)\r\n",
        "    display(Image(f\"result-at-{i}-iterations.png\"))"
      ],
      "outputs": [],
      "metadata": {
        "colab": {
          "base_uri": "https://localhost:8080/",
          "height": 1000
        },
        "cellView": "code",
        "id": "lYk2A2mSq6U4",
        "outputId": "ffbb6b83-5132-4a59-9d72-3e21dd61221a"
      }
    },
    {
      "cell_type": "code",
      "execution_count": null,
      "source": [],
      "outputs": [],
      "metadata": {
        "colab": {
          "base_uri": "https://localhost:8080/"
        },
        "id": "KDz9K9ip803z",
        "outputId": "12289914-acf5-47c8-a7af-315a9260e2db"
      }
    }
  ]
}